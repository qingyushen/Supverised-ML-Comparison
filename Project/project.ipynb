{
 "cells": [
  {
   "cell_type": "code",
   "execution_count": 31,
   "metadata": {},
   "outputs": [
    {
     "name": "stderr",
     "output_type": "stream",
     "text": [
      "/Users/adamshen/anaconda3/lib/python3.6/site-packages/IPython/core/interactiveshell.py:2862: FutureWarning: \n",
      "mpl_style had been deprecated and will be removed in a future version.\n",
      "Use `matplotlib.pyplot.style.use` instead.\n",
      "\n",
      "  exec(code_obj, self.user_global_ns, self.user_ns)\n"
     ]
    }
   ],
   "source": [
    "#Importing required Python packages \n",
    "%matplotlib inline \n",
    "import matplotlib.pyplot as plt \n",
    "import numpy as np \n",
    "from pprint import pprint \n",
    "import pandas as pd \n",
    "import zipfile \n",
    "import requests \n",
    "import io \n",
    "import datetime \n",
    "import seaborn \n",
    "\n",
    "np.random.seed(sum(map(ord, \"aesthetics\"))) \n",
    "seaborn.set_context('notebook') \n",
    "\n",
    "pd.set_option('display.mpl_style', 'default') # Make the graphs a bit prettier \n",
    "plt.rcParams['figure.figsize'] = (15, 5)"
   ]
  },
  {
   "cell_type": "code",
   "execution_count": 32,
   "metadata": {},
   "outputs": [
    {
     "data": {
      "text/plain": [
       "'\\nLoad first dataset: abalone set. \\nExample: \\nM,0.455,0.365,0.095,0.514,0.2245,0.101,0.15,15\\n\\tName\\t\\tData Type\\tMeas.\\tDescription\\n\\t----\\t\\t---------\\t-----\\t-----------\\n\\tSex\\t\\tnominal\\t\\t\\tM, F, and I (infant)\\n\\tLength\\t\\tcontinuous\\tmm\\tLongest shell measurement\\n\\tDiameter\\tcontinuous\\tmm\\tperpendicular to length\\n\\tHeight\\t\\tcontinuous\\tmm\\twith meat in shell\\n\\tWhole weight\\tcontinuous\\tgrams\\twhole abalone\\n\\tShucked weight\\tcontinuous\\tgrams\\tweight of meat\\n\\tViscera weight\\tcontinuous\\tgrams\\tgut weight (after bleeding)\\n\\tShell weight\\tcontinuous\\tgrams\\tafter being dried\\n\\tRings\\t\\tinteger\\t\\t\\t+1.5 gives the age in years\\n    \\nhot encoding for sex, columns in order M, F, I.\\n'"
      ]
     },
     "execution_count": 32,
     "metadata": {},
     "output_type": "execute_result"
    }
   ],
   "source": [
    "'''\n",
    "Load first dataset: abalone set. \n",
    "Example: \n",
    "M,0.455,0.365,0.095,0.514,0.2245,0.101,0.15,15\n",
    "\tName\t\tData Type\tMeas.\tDescription\n",
    "\t----\t\t---------\t-----\t-----------\n",
    "\tSex\t\tnominal\t\t\tM, F, and I (infant)\n",
    "\tLength\t\tcontinuous\tmm\tLongest shell measurement\n",
    "\tDiameter\tcontinuous\tmm\tperpendicular to length\n",
    "\tHeight\t\tcontinuous\tmm\twith meat in shell\n",
    "\tWhole weight\tcontinuous\tgrams\twhole abalone\n",
    "\tShucked weight\tcontinuous\tgrams\tweight of meat\n",
    "\tViscera weight\tcontinuous\tgrams\tgut weight (after bleeding)\n",
    "\tShell weight\tcontinuous\tgrams\tafter being dried\n",
    "\tRings\t\tinteger\t\t\t+1.5 gives the age in years\n",
    "    \n",
    "hot encoding for sex, columns in order M, F, I.\n",
    "'''\n",
    "\n",
    "    "
   ]
  },
  {
   "cell_type": "code",
   "execution_count": 33,
   "metadata": {},
   "outputs": [
    {
     "name": "stdout",
     "output_type": "stream",
     "text": [
      "      M  0.455  0.365  0.095   0.514  0.2245   0.101    0.15  15\n",
      "0     M  0.350  0.265  0.090  0.2255  0.0995  0.0485  0.0700   7\n",
      "1     F  0.530  0.420  0.135  0.6770  0.2565  0.1415  0.2100   9\n",
      "2     M  0.440  0.365  0.125  0.5160  0.2155  0.1140  0.1550  10\n",
      "3     I  0.330  0.255  0.080  0.2050  0.0895  0.0395  0.0550   7\n",
      "4     I  0.425  0.300  0.095  0.3515  0.1410  0.0775  0.1200   8\n",
      "5     F  0.530  0.415  0.150  0.7775  0.2370  0.1415  0.3300  20\n",
      "6     F  0.545  0.425  0.125  0.7680  0.2940  0.1495  0.2600  16\n",
      "7     M  0.475  0.370  0.125  0.5095  0.2165  0.1125  0.1650   9\n",
      "8     F  0.550  0.440  0.150  0.8945  0.3145  0.1510  0.3200  19\n",
      "9     F  0.525  0.380  0.140  0.6065  0.1940  0.1475  0.2100  14\n",
      "10    M  0.430  0.350  0.110  0.4060  0.1675  0.0810  0.1350  10\n",
      "11    M  0.490  0.380  0.135  0.5415  0.2175  0.0950  0.1900  11\n",
      "12    F  0.535  0.405  0.145  0.6845  0.2725  0.1710  0.2050  10\n",
      "13    F  0.470  0.355  0.100  0.4755  0.1675  0.0805  0.1850  10\n",
      "14    M  0.500  0.400  0.130  0.6645  0.2580  0.1330  0.2400  12\n",
      "15    I  0.355  0.280  0.085  0.2905  0.0950  0.0395  0.1150   7\n",
      "16    F  0.440  0.340  0.100  0.4510  0.1880  0.0870  0.1300  10\n",
      "17    M  0.365  0.295  0.080  0.2555  0.0970  0.0430  0.1000   7\n",
      "18    M  0.450  0.320  0.100  0.3810  0.1705  0.0750  0.1150   9\n",
      "19    M  0.355  0.280  0.095  0.2455  0.0955  0.0620  0.0750  11\n",
      "20    I  0.380  0.275  0.100  0.2255  0.0800  0.0490  0.0850  10\n",
      "21    F  0.565  0.440  0.155  0.9395  0.4275  0.2140  0.2700  12\n",
      "22    F  0.550  0.415  0.135  0.7635  0.3180  0.2100  0.2000   9\n",
      "23    F  0.615  0.480  0.165  1.1615  0.5130  0.3010  0.3050  10\n",
      "24    F  0.560  0.440  0.140  0.9285  0.3825  0.1880  0.3000  11\n",
      "25    F  0.580  0.450  0.185  0.9955  0.3945  0.2720  0.2850  11\n",
      "26    M  0.590  0.445  0.140  0.9310  0.3560  0.2340  0.2800  12\n",
      "27    M  0.605  0.475  0.180  0.9365  0.3940  0.2190  0.2950  15\n",
      "28    M  0.575  0.425  0.140  0.8635  0.3930  0.2270  0.2000  11\n",
      "29    M  0.580  0.470  0.165  0.9975  0.3935  0.2420  0.3300  10\n",
      "...  ..    ...    ...    ...     ...     ...     ...     ...  ..\n",
      "4146  M  0.695  0.550  0.195  1.6645  0.7270  0.3600  0.4450  11\n",
      "4147  M  0.770  0.605  0.175  2.0505  0.8005  0.5260  0.3550  11\n",
      "4148  I  0.280  0.215  0.070  0.1240  0.0630  0.0215  0.0300   6\n",
      "4149  I  0.330  0.230  0.080  0.1400  0.0565  0.0365  0.0460   7\n",
      "4150  I  0.350  0.250  0.075  0.1695  0.0835  0.0355  0.0410   6\n",
      "4151  I  0.370  0.280  0.090  0.2180  0.0995  0.0545  0.0615   7\n",
      "4152  I  0.430  0.315  0.115  0.3840  0.1885  0.0715  0.1100   8\n",
      "4153  I  0.435  0.330  0.095  0.3930  0.2190  0.0750  0.0885   6\n",
      "4154  I  0.440  0.350  0.110  0.3805  0.1575  0.0895  0.1150   6\n",
      "4155  M  0.475  0.370  0.110  0.4895  0.2185  0.1070  0.1460   8\n",
      "4156  M  0.475  0.360  0.140  0.5135  0.2410  0.1045  0.1550   8\n",
      "4157  I  0.480  0.355  0.110  0.4495  0.2010  0.0890  0.1400   8\n",
      "4158  F  0.560  0.440  0.135  0.8025  0.3500  0.1615  0.2590   9\n",
      "4159  F  0.585  0.475  0.165  1.0530  0.4580  0.2170  0.3000  11\n",
      "4160  F  0.585  0.455  0.170  0.9945  0.4255  0.2630  0.2845  11\n",
      "4161  M  0.385  0.255  0.100  0.3175  0.1370  0.0680  0.0920   8\n",
      "4162  I  0.390  0.310  0.085  0.3440  0.1810  0.0695  0.0790   7\n",
      "4163  I  0.390  0.290  0.100  0.2845  0.1255  0.0635  0.0810   7\n",
      "4164  I  0.405  0.300  0.085  0.3035  0.1500  0.0505  0.0880   7\n",
      "4165  I  0.475  0.365  0.115  0.4990  0.2320  0.0885  0.1560  10\n",
      "4166  M  0.500  0.380  0.125  0.5770  0.2690  0.1265  0.1535   9\n",
      "4167  F  0.515  0.400  0.125  0.6150  0.2865  0.1230  0.1765   8\n",
      "4168  M  0.520  0.385  0.165  0.7910  0.3750  0.1800  0.1815  10\n",
      "4169  M  0.550  0.430  0.130  0.8395  0.3155  0.1955  0.2405  10\n",
      "4170  M  0.560  0.430  0.155  0.8675  0.4000  0.1720  0.2290   8\n",
      "4171  F  0.565  0.450  0.165  0.8870  0.3700  0.2390  0.2490  11\n",
      "4172  M  0.590  0.440  0.135  0.9660  0.4390  0.2145  0.2605  10\n",
      "4173  M  0.600  0.475  0.205  1.1760  0.5255  0.2875  0.3080   9\n",
      "4174  F  0.625  0.485  0.150  1.0945  0.5310  0.2610  0.2960  10\n",
      "4175  M  0.710  0.555  0.195  1.9485  0.9455  0.3765  0.4950  12\n",
      "\n",
      "[4176 rows x 9 columns]\n",
      "             0.455        0.365        0.095        0.514      0.2245  \\\n",
      "count  4176.000000  4176.000000  4176.000000  4176.000000  4176.00000   \n",
      "mean      0.524009     0.407892     0.139527     0.828818     0.35940   \n",
      "std       0.120103     0.099250     0.041826     0.490424     0.22198   \n",
      "min       0.075000     0.055000     0.000000     0.002000     0.00100   \n",
      "25%       0.450000     0.350000     0.115000     0.441500     0.18600   \n",
      "50%       0.545000     0.425000     0.140000     0.799750     0.33600   \n",
      "75%       0.615000     0.480000     0.165000     1.153250     0.50200   \n",
      "max       0.815000     0.650000     1.130000     2.825500     1.48800   \n",
      "\n",
      "             0.101         0.15           15          M_F          M_I  \\\n",
      "count  4176.000000  4176.000000  4176.000000  4176.000000  4176.000000   \n",
      "mean      0.180613     0.238852     9.932471     0.312979     0.321360   \n",
      "std       0.109620     0.139213     3.223601     0.463761     0.467055   \n",
      "min       0.000500     0.001500     1.000000     0.000000     0.000000   \n",
      "25%       0.093375     0.130000     8.000000     0.000000     0.000000   \n",
      "50%       0.171000     0.234000     9.000000     0.000000     0.000000   \n",
      "75%       0.253000     0.329000    11.000000     1.000000     1.000000   \n",
      "max       0.760000     1.005000    29.000000     1.000000     1.000000   \n",
      "\n",
      "               M_M  \n",
      "count  4176.000000  \n",
      "mean      0.365661  \n",
      "std       0.481673  \n",
      "min       0.000000  \n",
      "25%       0.000000  \n",
      "50%       0.000000  \n",
      "75%       1.000000  \n",
      "max       1.000000  \n"
     ]
    }
   ],
   "source": [
    "#a = np.loadtxt('./abalone.data', delimiter=',')\n",
    "abalone = pd.read_csv('./abalone.data')\n",
    "print(abalone)\n",
    "abalone = pd.get_dummies(abalone)\n",
    "print(abalone.describe())"
   ]
  },
  {
   "cell_type": "code",
   "execution_count": 34,
   "metadata": {},
   "outputs": [
    {
     "ename": "AttributeError",
     "evalue": "type object '_io.StringIO' has no attribute 'StringIO'",
     "output_type": "error",
     "traceback": [
      "\u001b[0;31m---------------------------------------------------------------------------\u001b[0m",
      "\u001b[0;31mAttributeError\u001b[0m                            Traceback (most recent call last)",
      "\u001b[0;32m<ipython-input-34-fd7af34d5426>\u001b[0m in \u001b[0;36m<module>\u001b[0;34m()\u001b[0m\n\u001b[1;32m      1\u001b[0m \u001b[0murl\u001b[0m \u001b[0;34m=\u001b[0m \u001b[0mrequests\u001b[0m\u001b[0;34m.\u001b[0m\u001b[0mget\u001b[0m\u001b[0;34m(\u001b[0m\u001b[0;34m'http://archive.ics.uci.edu/ml/machine-learning-databases/abalone/'\u001b[0m\u001b[0;34m)\u001b[0m\u001b[0;34m\u001b[0m\u001b[0m\n\u001b[0;32m----> 2\u001b[0;31m \u001b[0mz\u001b[0m \u001b[0;34m=\u001b[0m \u001b[0mzipfile\u001b[0m\u001b[0;34m.\u001b[0m\u001b[0mZipFile\u001b[0m\u001b[0;34m(\u001b[0m\u001b[0mio\u001b[0m\u001b[0;34m.\u001b[0m\u001b[0mStringIO\u001b[0m\u001b[0;34m.\u001b[0m\u001b[0mStringIO\u001b[0m\u001b[0;34m(\u001b[0m\u001b[0murl\u001b[0m\u001b[0;34m.\u001b[0m\u001b[0mcontent\u001b[0m\u001b[0;34m)\u001b[0m\u001b[0;34m)\u001b[0m\u001b[0;34m\u001b[0m\u001b[0m\n\u001b[0m\u001b[1;32m      3\u001b[0m \u001b[0;34m\u001b[0m\u001b[0m\n\u001b[1;32m      4\u001b[0m \u001b[0mabalone\u001b[0m \u001b[0;34m=\u001b[0m \u001b[0mpd\u001b[0m\u001b[0;34m.\u001b[0m\u001b[0mread_csv\u001b[0m\u001b[0;34m(\u001b[0m\u001b[0mz\u001b[0m\u001b[0;34m.\u001b[0m\u001b[0mopen\u001b[0m\u001b[0;34m(\u001b[0m\u001b[0;34m'abalone.data'\u001b[0m\u001b[0;34m)\u001b[0m\u001b[0;34m)\u001b[0m\u001b[0;34m\u001b[0m\u001b[0m\n\u001b[1;32m      5\u001b[0m \u001b[0mprint\u001b[0m\u001b[0;34m(\u001b[0m\u001b[0mabalone\u001b[0m\u001b[0;34m.\u001b[0m\u001b[0mhead\u001b[0m\u001b[0;34m)\u001b[0m\u001b[0;34m\u001b[0m\u001b[0m\n",
      "\u001b[0;31mAttributeError\u001b[0m: type object '_io.StringIO' has no attribute 'StringIO'"
     ]
    }
   ],
   "source": [
    "url = requests.get('http://archive.ics.uci.edu/ml/machine-learning-databases/abalone/')\n",
    "z = zipfile.ZipFile(io.StringIO.StringIO(url.content))\n",
    "\n",
    "abalone = pd.read_csv(z.open('abalone.data'))\n",
    "print(abalone.head)"
   ]
  },
  {
   "cell_type": "code",
   "execution_count": null,
   "metadata": {
    "collapsed": true
   },
   "outputs": [],
   "source": []
  }
 ],
 "metadata": {
  "kernelspec": {
   "display_name": "Python 3",
   "language": "python",
   "name": "python3"
  },
  "language_info": {
   "codemirror_mode": {
    "name": "ipython",
    "version": 3
   },
   "file_extension": ".py",
   "mimetype": "text/x-python",
   "name": "python",
   "nbconvert_exporter": "python",
   "pygments_lexer": "ipython3",
   "version": "3.6.3"
  }
 },
 "nbformat": 4,
 "nbformat_minor": 2
}
