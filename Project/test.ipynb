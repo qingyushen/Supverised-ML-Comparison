{
 "cells": [
  {
   "cell_type": "code",
   "execution_count": null,
   "metadata": {},
   "outputs": [],
   "source": [
    "#Importing required Python packages \n",
    "%matplotlib inline \n",
    "import matplotlib.pyplot as plt \n",
    "import numpy as np \n",
    "from pprint import pprint \n",
    "import pandas as pd \n",
    "import zipfile \n",
    "import requests \n",
    "import io \n",
    "import datetime \n",
    "import seaborn \n",
    "from sklearn import svm\n",
    "from sklearn.model_selection import GridSearchCV\n",
    "\n",
    "np.random.seed(sum(map(ord, \"aesthetics\"))) \n",
    "seaborn.set_context('notebook') \n",
    "\n",
    "pd.set_option('display.mpl_style', 'default') # Make the graphs a bit prettier \n",
    "plt.rcParams['figure.figsize'] = (15, 5)"
   ]
  },
  {
   "cell_type": "code",
   "execution_count": null,
   "metadata": {
    "collapsed": true
   },
   "outputs": [],
   "source": [
    "#Load the first abalone dataset\n",
    "abalone = pd.read_csv('abalone.data', header=None)\n",
    "abalone = pd.get_dummies(abalone)\n",
    "#abalone = abalone.as_matrix()\n",
    "Y_abalone = abalone[8].as_matrix() # Column 8 is the label\n",
    "del abalone[8]\n",
    "\n",
    "X_abalone = abalone.as_matrix()"
   ]
  },
  {
   "cell_type": "code",
   "execution_count": null,
   "metadata": {
    "collapsed": true
   },
   "outputs": [],
   "source": [
    "# Load the wine dataset\n",
    "wine = np.loadtxt('winequality-white.csv', delimiter=';')\n",
    "X_wine = wine[:,:11]\n",
    "Y_wine = wine[:,11]"
   ]
  },
  {
   "cell_type": "code",
   "execution_count": null,
   "metadata": {},
   "outputs": [],
   "source": [
    "# Load the covtype dataset\n",
    "covtype = np.loadtxt('covtype.data', delimiter=',')\n",
    "print(covtype.shape)"
   ]
  },
  {
   "cell_type": "code",
   "execution_count": null,
   "metadata": {},
   "outputs": [],
   "source": [
    "X_cov = covtype[:,:54]\n",
    "Y_cov = covtype[:,54]\n",
    "print(X_cov.shape, Y_cov.shape)"
   ]
  },
  {
   "cell_type": "code",
   "execution_count": null,
   "metadata": {},
   "outputs": [],
   "source": [
    "# Load the adult dataset\n",
    "adult = pd.read_csv('adult.data', header=None)\n",
    "adult = pd.get_dummies(adult)\n",
    "adult_matrix = adult.as_matrix()\n",
    "print(adult_matrix.shape)\n",
    "\n",
    "X_adult = adult_matrix[:, :109]\n",
    "Y_adult = adult_matrix[:, 109] # binary. 1 represents > 50k, 0 represents <= 50k\n",
    "print(X_adult.shape, Y_adult.shape)"
   ]
  },
  {
   "cell_type": "code",
   "execution_count": null,
   "metadata": {
    "collapsed": true
   },
   "outputs": [],
   "source": [
    "from sklearn.model_selection import train_test_split\n",
    "\n",
    "X_train_val, X_test, Y_train_val, Y_test = \\\n",
    "train_test_split(X_abalone, Y_abalone, test_size=0.2, random_state=42)  \n",
    "print(X_train_val.shape, X_test.shape, Y_train_val.shape, Y_test.shape)"
   ]
  },
  {
   "cell_type": "code",
   "execution_count": null,
   "metadata": {
    "collapsed": true
   },
   "outputs": [],
   "source": [
    "classifier = svm.SVC(kernel='linear')\n",
    "# Set the parameters by cross-validation\n",
    "C_list = [ 10**-6, 10**-5, 10**-4, 10**-3, 10**-2, 10**-1] # Different C to try.\n",
    "tuned = {'C': C_list}\n",
    "clf = GridSearchCV(classifier, param_grid=tuned, return_train_score=True)\n",
    "clf.fit(X_train_val, Y_train_val)\n",
    "print(\"Best C for linear is:\",clf.best_params_['C'])"
   ]
  },
  {
   "cell_type": "code",
   "execution_count": null,
   "metadata": {
    "collapsed": true
   },
   "outputs": [],
   "source": []
  }
 ],
 "metadata": {
  "kernelspec": {
   "display_name": "Python 3",
   "language": "python",
   "name": "python3"
  },
  "language_info": {
   "codemirror_mode": {
    "name": "ipython",
    "version": 3
   },
   "file_extension": ".py",
   "mimetype": "text/x-python",
   "name": "python",
   "nbconvert_exporter": "python",
   "pygments_lexer": "ipython3",
   "version": "3.6.3"
  }
 },
 "nbformat": 4,
 "nbformat_minor": 2
}
