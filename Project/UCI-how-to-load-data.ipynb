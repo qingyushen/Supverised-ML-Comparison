{
 "cells": [
  {
   "cell_type": "code",
   "execution_count": 1,
   "metadata": {
    "collapsed": true
   },
   "outputs": [],
   "source": [
    "import numpy as np"
   ]
  },
  {
   "cell_type": "markdown",
   "metadata": {},
   "source": [
    "# Load Data From UCI Machine Learning Repository\n",
    "\n",
    "The data from UCI ML Repo are usually formatted in CSV (comma-separated values):\n",
    "\n",
    "    e.g. Wine data:\n",
    "    1,14.23,1.71,2.43,15.6,127,2.8,3.06,.28,2.29,5.64,1.04,3.92,1065\n",
    "    1,13.2,1.78,2.14,11.2,100,2.65,2.76,.26,1.28,4.38,1.05,3.4,1050\n",
    "\n",
    "    e.g. Iris data:\n",
    "    5.1,3.5,1.4,0.2,Iris-setosa\n",
    "    4.9,3.0,1.4,0.2,Iris-setosa"
   ]
  },
  {
   "cell_type": "markdown",
   "metadata": {},
   "source": [
    "## If the all elements in the data file are numbers:"
   ]
  },
  {
   "cell_type": "code",
   "execution_count": 2,
   "metadata": {
    "collapsed": true
   },
   "outputs": [],
   "source": [
    "# Wine data:\n",
    "# Dataset page: https://archive.ics.uci.edu/ml/datasets/Wine\n",
    "# Data file:    https://archive.ics.uci.edu/ml/machine-learning-databases/wine/wine.data"
   ]
  },
  {
   "cell_type": "code",
   "execution_count": 3,
   "metadata": {},
   "outputs": [
    {
     "name": "stdout",
     "output_type": "stream",
     "text": [
      "(178, 14)\n",
      "[[  1.00000000e+00   1.42300000e+01   1.71000000e+00 ...,   1.04000000e+00\n",
      "    3.92000000e+00   1.06500000e+03]\n",
      " [  1.00000000e+00   1.32000000e+01   1.78000000e+00 ...,   1.05000000e+00\n",
      "    3.40000000e+00   1.05000000e+03]\n",
      " [  1.00000000e+00   1.31600000e+01   2.36000000e+00 ...,   1.03000000e+00\n",
      "    3.17000000e+00   1.18500000e+03]\n",
      " ..., \n",
      " [  3.00000000e+00   1.32700000e+01   4.28000000e+00 ...,   5.90000000e-01\n",
      "    1.56000000e+00   8.35000000e+02]\n",
      " [  3.00000000e+00   1.31700000e+01   2.59000000e+00 ...,   6.00000000e-01\n",
      "    1.62000000e+00   8.40000000e+02]\n",
      " [  3.00000000e+00   1.41300000e+01   4.10000000e+00 ...,   6.10000000e-01\n",
      "    1.60000000e+00   5.60000000e+02]]\n"
     ]
    }
   ],
   "source": [
    "# Delimiter is used to indicate which character to separate elements in the data.\n",
    "a = np.loadtxt('./wine.data', delimiter=',')\n",
    "\n",
    "print(a.shape)\n",
    "print(a)"
   ]
  },
  {
   "cell_type": "markdown",
   "metadata": {},
   "source": [
    "## If some of the elements in the data file are strings:"
   ]
  },
  {
   "cell_type": "markdown",
   "metadata": {},
   "source": [
    "In this case, we may need to convert the strings into numbers. We need to (1) define a converter function at first and then (2) feed the column number and the converter function into `np.loadtxt()`. "
   ]
  },
  {
   "cell_type": "code",
   "execution_count": 4,
   "metadata": {
    "collapsed": true
   },
   "outputs": [],
   "source": [
    "# Iris data:\n",
    "# Dataset page: https://archive.ics.uci.edu/ml/datasets/Iris\n",
    "# Data file:    https://archive.ics.uci.edu/ml/machine-learning-databases/iris/iris.data"
   ]
  },
  {
   "cell_type": "code",
   "execution_count": 5,
   "metadata": {
    "collapsed": true
   },
   "outputs": [],
   "source": [
    "# This converter function will convert the string into corresponding value.\n",
    "def converter1(x):\n",
    "    # Here the character b before string is needed, \n",
    "    # because the string read as bytes flow.\n",
    "    #     https://stackoverflow.com/questions/6269765/what-does-the-b-character-do-in-front-of-a-string-literal\n",
    "\n",
    "    if x == b'Iris-setosa':       \n",
    "        return 0\n",
    "    elif x == b'Iris-versicolor':\n",
    "        return 1\n",
    "    else:\n",
    "        return 2"
   ]
  },
  {
   "cell_type": "code",
   "execution_count": 10,
   "metadata": {
    "scrolled": true
   },
   "outputs": [
    {
     "name": "stdout",
     "output_type": "stream",
     "text": [
      "(150, 5)\n",
      "[[ 5.1  3.5  1.4  0.2  0. ]\n",
      " [ 4.9  3.   1.4  0.2  0. ]\n",
      " [ 4.7  3.2  1.3  0.2  0. ]\n",
      " [ 4.6  3.1  1.5  0.2  0. ]\n",
      " [ 5.   3.6  1.4  0.2  0. ]\n",
      " [ 5.4  3.9  1.7  0.4  0. ]\n",
      " [ 4.6  3.4  1.4  0.3  0. ]\n",
      " [ 5.   3.4  1.5  0.2  0. ]\n",
      " [ 4.4  2.9  1.4  0.2  0. ]\n",
      " [ 4.9  3.1  1.5  0.1  0. ]\n",
      " [ 5.4  3.7  1.5  0.2  0. ]\n",
      " [ 4.8  3.4  1.6  0.2  0. ]\n",
      " [ 4.8  3.   1.4  0.1  0. ]\n",
      " [ 4.3  3.   1.1  0.1  0. ]\n",
      " [ 5.8  4.   1.2  0.2  0. ]\n",
      " [ 5.7  4.4  1.5  0.4  0. ]\n",
      " [ 5.4  3.9  1.3  0.4  0. ]\n",
      " [ 5.1  3.5  1.4  0.3  0. ]\n",
      " [ 5.7  3.8  1.7  0.3  0. ]\n",
      " [ 5.1  3.8  1.5  0.3  0. ]\n",
      " [ 5.4  3.4  1.7  0.2  0. ]\n",
      " [ 5.1  3.7  1.5  0.4  0. ]\n",
      " [ 4.6  3.6  1.   0.2  0. ]\n",
      " [ 5.1  3.3  1.7  0.5  0. ]\n",
      " [ 4.8  3.4  1.9  0.2  0. ]\n",
      " [ 5.   3.   1.6  0.2  0. ]\n",
      " [ 5.   3.4  1.6  0.4  0. ]\n",
      " [ 5.2  3.5  1.5  0.2  0. ]\n",
      " [ 5.2  3.4  1.4  0.2  0. ]\n",
      " [ 4.7  3.2  1.6  0.2  0. ]\n",
      " [ 4.8  3.1  1.6  0.2  0. ]\n",
      " [ 5.4  3.4  1.5  0.4  0. ]\n",
      " [ 5.2  4.1  1.5  0.1  0. ]\n",
      " [ 5.5  4.2  1.4  0.2  0. ]\n",
      " [ 4.9  3.1  1.5  0.1  0. ]\n",
      " [ 5.   3.2  1.2  0.2  0. ]\n",
      " [ 5.5  3.5  1.3  0.2  0. ]\n",
      " [ 4.9  3.1  1.5  0.1  0. ]\n",
      " [ 4.4  3.   1.3  0.2  0. ]\n",
      " [ 5.1  3.4  1.5  0.2  0. ]\n",
      " [ 5.   3.5  1.3  0.3  0. ]\n",
      " [ 4.5  2.3  1.3  0.3  0. ]\n",
      " [ 4.4  3.2  1.3  0.2  0. ]\n",
      " [ 5.   3.5  1.6  0.6  0. ]\n",
      " [ 5.1  3.8  1.9  0.4  0. ]\n",
      " [ 4.8  3.   1.4  0.3  0. ]\n",
      " [ 5.1  3.8  1.6  0.2  0. ]\n",
      " [ 4.6  3.2  1.4  0.2  0. ]\n",
      " [ 5.3  3.7  1.5  0.2  0. ]\n",
      " [ 5.   3.3  1.4  0.2  0. ]\n",
      " [ 7.   3.2  4.7  1.4  1. ]\n",
      " [ 6.4  3.2  4.5  1.5  1. ]\n",
      " [ 6.9  3.1  4.9  1.5  1. ]\n",
      " [ 5.5  2.3  4.   1.3  1. ]\n",
      " [ 6.5  2.8  4.6  1.5  1. ]\n",
      " [ 5.7  2.8  4.5  1.3  1. ]\n",
      " [ 6.3  3.3  4.7  1.6  1. ]\n",
      " [ 4.9  2.4  3.3  1.   1. ]\n",
      " [ 6.6  2.9  4.6  1.3  1. ]\n",
      " [ 5.2  2.7  3.9  1.4  1. ]\n",
      " [ 5.   2.   3.5  1.   1. ]\n",
      " [ 5.9  3.   4.2  1.5  1. ]\n",
      " [ 6.   2.2  4.   1.   1. ]\n",
      " [ 6.1  2.9  4.7  1.4  1. ]\n",
      " [ 5.6  2.9  3.6  1.3  1. ]\n",
      " [ 6.7  3.1  4.4  1.4  1. ]\n",
      " [ 5.6  3.   4.5  1.5  1. ]\n",
      " [ 5.8  2.7  4.1  1.   1. ]\n",
      " [ 6.2  2.2  4.5  1.5  1. ]\n",
      " [ 5.6  2.5  3.9  1.1  1. ]\n",
      " [ 5.9  3.2  4.8  1.8  1. ]\n",
      " [ 6.1  2.8  4.   1.3  1. ]\n",
      " [ 6.3  2.5  4.9  1.5  1. ]\n",
      " [ 6.1  2.8  4.7  1.2  1. ]\n",
      " [ 6.4  2.9  4.3  1.3  1. ]\n",
      " [ 6.6  3.   4.4  1.4  1. ]\n",
      " [ 6.8  2.8  4.8  1.4  1. ]\n",
      " [ 6.7  3.   5.   1.7  1. ]\n",
      " [ 6.   2.9  4.5  1.5  1. ]\n",
      " [ 5.7  2.6  3.5  1.   1. ]\n",
      " [ 5.5  2.4  3.8  1.1  1. ]\n",
      " [ 5.5  2.4  3.7  1.   1. ]\n",
      " [ 5.8  2.7  3.9  1.2  1. ]\n",
      " [ 6.   2.7  5.1  1.6  1. ]\n",
      " [ 5.4  3.   4.5  1.5  1. ]\n",
      " [ 6.   3.4  4.5  1.6  1. ]\n",
      " [ 6.7  3.1  4.7  1.5  1. ]\n",
      " [ 6.3  2.3  4.4  1.3  1. ]\n",
      " [ 5.6  3.   4.1  1.3  1. ]\n",
      " [ 5.5  2.5  4.   1.3  1. ]\n",
      " [ 5.5  2.6  4.4  1.2  1. ]\n",
      " [ 6.1  3.   4.6  1.4  1. ]\n",
      " [ 5.8  2.6  4.   1.2  1. ]\n",
      " [ 5.   2.3  3.3  1.   1. ]\n",
      " [ 5.6  2.7  4.2  1.3  1. ]\n",
      " [ 5.7  3.   4.2  1.2  1. ]\n",
      " [ 5.7  2.9  4.2  1.3  1. ]\n",
      " [ 6.2  2.9  4.3  1.3  1. ]\n",
      " [ 5.1  2.5  3.   1.1  1. ]\n",
      " [ 5.7  2.8  4.1  1.3  1. ]\n",
      " [ 6.3  3.3  6.   2.5  2. ]\n",
      " [ 5.8  2.7  5.1  1.9  2. ]\n",
      " [ 7.1  3.   5.9  2.1  2. ]\n",
      " [ 6.3  2.9  5.6  1.8  2. ]\n",
      " [ 6.5  3.   5.8  2.2  2. ]\n",
      " [ 7.6  3.   6.6  2.1  2. ]\n",
      " [ 4.9  2.5  4.5  1.7  2. ]\n",
      " [ 7.3  2.9  6.3  1.8  2. ]\n",
      " [ 6.7  2.5  5.8  1.8  2. ]\n",
      " [ 7.2  3.6  6.1  2.5  2. ]\n",
      " [ 6.5  3.2  5.1  2.   2. ]\n",
      " [ 6.4  2.7  5.3  1.9  2. ]\n",
      " [ 6.8  3.   5.5  2.1  2. ]\n",
      " [ 5.7  2.5  5.   2.   2. ]\n",
      " [ 5.8  2.8  5.1  2.4  2. ]\n",
      " [ 6.4  3.2  5.3  2.3  2. ]\n",
      " [ 6.5  3.   5.5  1.8  2. ]\n",
      " [ 7.7  3.8  6.7  2.2  2. ]\n",
      " [ 7.7  2.6  6.9  2.3  2. ]\n",
      " [ 6.   2.2  5.   1.5  2. ]\n",
      " [ 6.9  3.2  5.7  2.3  2. ]\n",
      " [ 5.6  2.8  4.9  2.   2. ]\n",
      " [ 7.7  2.8  6.7  2.   2. ]\n",
      " [ 6.3  2.7  4.9  1.8  2. ]\n",
      " [ 6.7  3.3  5.7  2.1  2. ]\n",
      " [ 7.2  3.2  6.   1.8  2. ]\n",
      " [ 6.2  2.8  4.8  1.8  2. ]\n",
      " [ 6.1  3.   4.9  1.8  2. ]\n",
      " [ 6.4  2.8  5.6  2.1  2. ]\n",
      " [ 7.2  3.   5.8  1.6  2. ]\n",
      " [ 7.4  2.8  6.1  1.9  2. ]\n",
      " [ 7.9  3.8  6.4  2.   2. ]\n",
      " [ 6.4  2.8  5.6  2.2  2. ]\n",
      " [ 6.3  2.8  5.1  1.5  2. ]\n",
      " [ 6.1  2.6  5.6  1.4  2. ]\n",
      " [ 7.7  3.   6.1  2.3  2. ]\n",
      " [ 6.3  3.4  5.6  2.4  2. ]\n",
      " [ 6.4  3.1  5.5  1.8  2. ]\n",
      " [ 6.   3.   4.8  1.8  2. ]\n",
      " [ 6.9  3.1  5.4  2.1  2. ]\n",
      " [ 6.7  3.1  5.6  2.4  2. ]\n",
      " [ 6.9  3.1  5.1  2.3  2. ]\n",
      " [ 5.8  2.7  5.1  1.9  2. ]\n",
      " [ 6.8  3.2  5.9  2.3  2. ]\n",
      " [ 6.7  3.3  5.7  2.5  2. ]\n",
      " [ 6.7  3.   5.2  2.3  2. ]\n",
      " [ 6.3  2.5  5.   1.9  2. ]\n",
      " [ 6.5  3.   5.2  2.   2. ]\n",
      " [ 6.2  3.4  5.4  2.3  2. ]\n",
      " [ 5.9  3.   5.1  1.8  2. ]]\n"
     ]
    }
   ],
   "source": [
    "column1 = 4\n",
    "\n",
    "a = np.loadtxt('./iris.data', delimiter=',', \n",
    "               converters={column1:converter1})\n",
    "\n",
    "# You can also use multiple converters:\n",
    "# a = np.loadtxt('./???.data', delimiter=',', \n",
    "#                converters={column1:converter1, column2:converter2})\n",
    "\n",
    "print(a.shape)\n",
    "print(a)"
   ]
  },
  {
   "cell_type": "markdown",
   "metadata": {},
   "source": [
    "## Notes:\n",
    "\n",
    "You can also try some other packages like `csv` or `pandas` to load the data."
   ]
  }
 ],
 "metadata": {
  "kernelspec": {
   "display_name": "Python 3",
   "language": "python",
   "name": "python3"
  },
  "language_info": {
   "codemirror_mode": {
    "name": "ipython",
    "version": 3
   },
   "file_extension": ".py",
   "mimetype": "text/x-python",
   "name": "python",
   "nbconvert_exporter": "python",
   "pygments_lexer": "ipython3",
   "version": "3.6.3"
  }
 },
 "nbformat": 4,
 "nbformat_minor": 2
}
